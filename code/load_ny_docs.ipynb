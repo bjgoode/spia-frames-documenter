{
 "cells": [
  {
   "cell_type": "code",
   "execution_count": 5,
   "metadata": {},
   "outputs": [],
   "source": [
    "import os, sys, csv\n",
    "from datetime import date\n",
    "import glob"
   ]
  },
  {
   "cell_type": "code",
   "execution_count": 6,
   "metadata": {},
   "outputs": [
    {
     "data": {
      "text/plain": [
       "'documenter.settings.setup'"
      ]
     },
     "execution_count": 6,
     "metadata": {},
     "output_type": "execute_result"
    }
   ],
   "source": [
    "BASE_DIR = '/'\n",
    "sys.path.append(BASE_DIR)\n",
    "os.environ.setdefault(\"DJANGO_SETTINGS_MODULE\", \"documenter.settings.setup\")"
   ]
  },
  {
   "cell_type": "code",
   "execution_count": 7,
   "metadata": {},
   "outputs": [],
   "source": [
    "import django\n",
    "import lorem\n",
    "django.setup()\n",
    "\n",
    "from rate_doc.models import * \n",
    "from django.contrib.auth.models import User"
   ]
  },
  {
   "cell_type": "code",
   "execution_count": 9,
   "metadata": {},
   "outputs": [
    {
     "data": {
      "text/plain": [
       "<QuerySet [<User: admin>, <User: bjgoode>, <User: aida1>, <User: chadlevinson>]>"
      ]
     },
     "execution_count": 9,
     "metadata": {},
     "output_type": "execute_result"
    }
   ],
   "source": [
    "User.objects.all()"
   ]
  },
  {
   "cell_type": "code",
   "execution_count": 5,
   "metadata": {},
   "outputs": [],
   "source": [
    "articles = glob.glob('../docs/NYTimes/articles/*.txt')\n",
    "\n",
    "for fn in articles:\n",
    "    with open(fn) as file:\n",
    "        text = file.read()\n",
    "        \n",
    "    text = text.strip()\n",
    "    text_split = text.split('\\n')\n",
    "    title = text_split[0]\n",
    "    \n",
    "    author = text_split[1]\n",
    "    if 'By' in author:\n",
    "        author = author.replace(' With ', ' and ')\n",
    "        author = author.split('By')[1].strip().split(' and ')\n",
    "    if ',' in author or author == '':\n",
    "        author = ['No Author Given']\n",
    "        \n",
    "    date = text_split[2]\n",
    "\n",
    "    report_text = '\\n'.join(text_split[3:])\n",
    "    \n",
    "    author_obj = [Author.objects.get_or_create(name=a)[0] for a in author]\n",
    "    mediaType_obj, created = MediaType.objects.get_or_create(type_desc='Newspaper')\n",
    "    media_obj, created = MediaOrg.objects.get_or_create(media_type=mediaType_obj, org_name='New York Times')\n",
    "\n",
    "    report, created = Report.objects.get_or_create(\n",
    "        id = int(fn.split('/')[-1].split('-')[0]),\n",
    "        title=title,\n",
    "        media_org = media_obj,\n",
    "        report_text_html = report_text\n",
    "    )\n",
    "    report.author.set(author_obj)\n",
    "    report.save()"
   ]
  },
  {
   "cell_type": "code",
   "execution_count": 12,
   "metadata": {},
   "outputs": [
    {
     "name": "stdout",
     "output_type": "stream",
     "text": [
      "<QuerySet [<User: chadlevinson>]>\n"
     ]
    }
   ],
   "source": [
    "#users = User.objects.all()\n",
    "users = User.objects.filter(username = 'chadlevinson')\n",
    "print(users)"
   ]
  },
  {
   "cell_type": "code",
   "execution_count": 13,
   "metadata": {},
   "outputs": [],
   "source": [
    "for usr in users:\n",
    "    for r in Report.objects.all():\n",
    "        Review.objects.get_or_create(\n",
    "            assignedTo = usr,\n",
    "            report = r,\n",
    "            review_html = r.report_text_html,\n",
    "        )"
   ]
  },
  {
   "cell_type": "code",
   "execution_count": null,
   "metadata": {},
   "outputs": [],
   "source": []
  }
 ],
 "metadata": {
  "kernelspec": {
   "display_name": "Python 3",
   "language": "python",
   "name": "python3"
  },
  "language_info": {
   "codemirror_mode": {
    "name": "ipython",
    "version": 3
   },
   "file_extension": ".py",
   "mimetype": "text/x-python",
   "name": "python",
   "nbconvert_exporter": "python",
   "pygments_lexer": "ipython3",
   "version": "3.6.8"
  }
 },
 "nbformat": 4,
 "nbformat_minor": 4
}
